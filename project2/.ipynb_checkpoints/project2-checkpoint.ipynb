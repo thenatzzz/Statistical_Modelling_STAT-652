{
 "cells": [
  {
   "cell_type": "code",
   "execution_count": 1,
   "metadata": {},
   "outputs": [],
   "source": [
    "import numpy as np\n",
    "import pandas as pd\n",
    "# from pandas_profiling import ProfileReport"
   ]
  },
  {
   "cell_type": "code",
   "execution_count": 2,
   "metadata": {},
   "outputs": [
    {
     "data": {
      "text/plain": [
       "(1000, 17)"
      ]
     },
     "execution_count": 2,
     "metadata": {},
     "output_type": "execute_result"
    }
   ],
   "source": [
    "df = pd.read_csv('P2Data2020.csv')\n",
    "df.shape"
   ]
  },
  {
   "cell_type": "code",
   "execution_count": 3,
   "metadata": {},
   "outputs": [
    {
     "data": {
      "text/html": [
       "<div>\n",
       "<style scoped>\n",
       "    .dataframe tbody tr th:only-of-type {\n",
       "        vertical-align: middle;\n",
       "    }\n",
       "\n",
       "    .dataframe tbody tr th {\n",
       "        vertical-align: top;\n",
       "    }\n",
       "\n",
       "    .dataframe thead th {\n",
       "        text-align: right;\n",
       "    }\n",
       "</style>\n",
       "<table border=\"1\" class=\"dataframe\">\n",
       "  <thead>\n",
       "    <tr style=\"text-align: right;\">\n",
       "      <th></th>\n",
       "      <th>Y</th>\n",
       "      <th>X1</th>\n",
       "      <th>X2</th>\n",
       "      <th>X3</th>\n",
       "      <th>X4</th>\n",
       "      <th>X5</th>\n",
       "      <th>X6</th>\n",
       "      <th>X7</th>\n",
       "      <th>X8</th>\n",
       "      <th>X9</th>\n",
       "      <th>X10</th>\n",
       "      <th>X11</th>\n",
       "      <th>X12</th>\n",
       "      <th>X13</th>\n",
       "      <th>X14</th>\n",
       "      <th>X15</th>\n",
       "      <th>X16</th>\n",
       "    </tr>\n",
       "  </thead>\n",
       "  <tbody>\n",
       "    <tr>\n",
       "      <th>0</th>\n",
       "      <td>B</td>\n",
       "      <td>0.463483</td>\n",
       "      <td>0.197339</td>\n",
       "      <td>-0.004313</td>\n",
       "      <td>0.522889</td>\n",
       "      <td>-0.207978</td>\n",
       "      <td>0.373110</td>\n",
       "      <td>0.808613</td>\n",
       "      <td>0.714983</td>\n",
       "      <td>0.243792</td>\n",
       "      <td>0.455603</td>\n",
       "      <td>-0.260724</td>\n",
       "      <td>-0.505411</td>\n",
       "      <td>0.678590</td>\n",
       "      <td>0.308001</td>\n",
       "      <td>-0.068912</td>\n",
       "      <td>0.074473</td>\n",
       "    </tr>\n",
       "    <tr>\n",
       "      <th>1</th>\n",
       "      <td>E</td>\n",
       "      <td>-0.021751</td>\n",
       "      <td>-0.317193</td>\n",
       "      <td>-0.592582</td>\n",
       "      <td>-0.453937</td>\n",
       "      <td>-2.424218</td>\n",
       "      <td>-1.181111</td>\n",
       "      <td>-0.094359</td>\n",
       "      <td>0.456717</td>\n",
       "      <td>-0.553349</td>\n",
       "      <td>-1.537843</td>\n",
       "      <td>-0.822716</td>\n",
       "      <td>-1.168343</td>\n",
       "      <td>-0.563946</td>\n",
       "      <td>-0.445774</td>\n",
       "      <td>-0.510221</td>\n",
       "      <td>-2.204006</td>\n",
       "    </tr>\n",
       "    <tr>\n",
       "      <th>2</th>\n",
       "      <td>B</td>\n",
       "      <td>0.094291</td>\n",
       "      <td>0.196072</td>\n",
       "      <td>-0.508481</td>\n",
       "      <td>-0.988275</td>\n",
       "      <td>-0.580576</td>\n",
       "      <td>0.441788</td>\n",
       "      <td>0.280879</td>\n",
       "      <td>-0.754575</td>\n",
       "      <td>-0.317789</td>\n",
       "      <td>0.465753</td>\n",
       "      <td>-0.507881</td>\n",
       "      <td>-0.662859</td>\n",
       "      <td>0.166077</td>\n",
       "      <td>-1.196857</td>\n",
       "      <td>-0.698399</td>\n",
       "      <td>0.269581</td>\n",
       "    </tr>\n",
       "    <tr>\n",
       "      <th>3</th>\n",
       "      <td>B</td>\n",
       "      <td>-0.262279</td>\n",
       "      <td>0.161193</td>\n",
       "      <td>0.261580</td>\n",
       "      <td>-0.210060</td>\n",
       "      <td>1.078715</td>\n",
       "      <td>-0.952849</td>\n",
       "      <td>0.785183</td>\n",
       "      <td>-0.529049</td>\n",
       "      <td>0.729604</td>\n",
       "      <td>0.184921</td>\n",
       "      <td>0.631328</td>\n",
       "      <td>0.611052</td>\n",
       "      <td>0.398932</td>\n",
       "      <td>-0.425220</td>\n",
       "      <td>-0.027068</td>\n",
       "      <td>0.839113</td>\n",
       "    </tr>\n",
       "    <tr>\n",
       "      <th>4</th>\n",
       "      <td>E</td>\n",
       "      <td>0.006534</td>\n",
       "      <td>-0.314165</td>\n",
       "      <td>0.075156</td>\n",
       "      <td>-0.531028</td>\n",
       "      <td>-0.473270</td>\n",
       "      <td>-1.393569</td>\n",
       "      <td>-0.536339</td>\n",
       "      <td>-0.011507</td>\n",
       "      <td>-1.780546</td>\n",
       "      <td>-0.136961</td>\n",
       "      <td>-0.766927</td>\n",
       "      <td>-1.800323</td>\n",
       "      <td>-0.086923</td>\n",
       "      <td>-0.584476</td>\n",
       "      <td>0.259429</td>\n",
       "      <td>-1.107669</td>\n",
       "    </tr>\n",
       "  </tbody>\n",
       "</table>\n",
       "</div>"
      ],
      "text/plain": [
       "   Y        X1        X2        X3        X4        X5        X6        X7  \\\n",
       "0  B  0.463483  0.197339 -0.004313  0.522889 -0.207978  0.373110  0.808613   \n",
       "1  E -0.021751 -0.317193 -0.592582 -0.453937 -2.424218 -1.181111 -0.094359   \n",
       "2  B  0.094291  0.196072 -0.508481 -0.988275 -0.580576  0.441788  0.280879   \n",
       "3  B -0.262279  0.161193  0.261580 -0.210060  1.078715 -0.952849  0.785183   \n",
       "4  E  0.006534 -0.314165  0.075156 -0.531028 -0.473270 -1.393569 -0.536339   \n",
       "\n",
       "         X8        X9       X10       X11       X12       X13       X14  \\\n",
       "0  0.714983  0.243792  0.455603 -0.260724 -0.505411  0.678590  0.308001   \n",
       "1  0.456717 -0.553349 -1.537843 -0.822716 -1.168343 -0.563946 -0.445774   \n",
       "2 -0.754575 -0.317789  0.465753 -0.507881 -0.662859  0.166077 -1.196857   \n",
       "3 -0.529049  0.729604  0.184921  0.631328  0.611052  0.398932 -0.425220   \n",
       "4 -0.011507 -1.780546 -0.136961 -0.766927 -1.800323 -0.086923 -0.584476   \n",
       "\n",
       "        X15       X16  \n",
       "0 -0.068912  0.074473  \n",
       "1 -0.510221 -2.204006  \n",
       "2 -0.698399  0.269581  \n",
       "3 -0.027068  0.839113  \n",
       "4  0.259429 -1.107669  "
      ]
     },
     "execution_count": 3,
     "metadata": {},
     "output_type": "execute_result"
    }
   ],
   "source": [
    "df.head(5)"
   ]
  },
  {
   "cell_type": "code",
   "execution_count": 4,
   "metadata": {},
   "outputs": [],
   "source": [
    "\n",
    "# profile = ProfileReport(df, title='Pandas Profiling Report')\n"
   ]
  },
  {
   "cell_type": "code",
   "execution_count": 5,
   "metadata": {},
   "outputs": [],
   "source": [
    "# profile.to_widgets()"
   ]
  },
  {
   "cell_type": "code",
   "execution_count": 6,
   "metadata": {},
   "outputs": [],
   "source": [
    "# profile.to_notebook_iframe()\n"
   ]
  },
  {
   "cell_type": "code",
   "execution_count": 7,
   "metadata": {},
   "outputs": [
    {
     "data": {
      "text/plain": [
       "Y       object\n",
       "X1     float64\n",
       "X2     float64\n",
       "X3     float64\n",
       "X4     float64\n",
       "X5     float64\n",
       "X6     float64\n",
       "X7     float64\n",
       "X8     float64\n",
       "X9     float64\n",
       "X10    float64\n",
       "X11    float64\n",
       "X12    float64\n",
       "X13    float64\n",
       "X14    float64\n",
       "X15    float64\n",
       "X16    float64\n",
       "dtype: object"
      ]
     },
     "execution_count": 7,
     "metadata": {},
     "output_type": "execute_result"
    }
   ],
   "source": [
    "# profile.to_file(\"your_report.html\")\n",
    "df.dtypes"
   ]
  },
  {
   "cell_type": "code",
   "execution_count": 8,
   "metadata": {},
   "outputs": [
    {
     "data": {
      "text/plain": [
       "Y      category\n",
       "X1      float64\n",
       "X2      float64\n",
       "X3      float64\n",
       "X4      float64\n",
       "X5      float64\n",
       "X6      float64\n",
       "X7      float64\n",
       "X8      float64\n",
       "X9      float64\n",
       "X10     float64\n",
       "X11     float64\n",
       "X12     float64\n",
       "X13     float64\n",
       "X14     float64\n",
       "X15     float64\n",
       "X16     float64\n",
       "dtype: object"
      ]
     },
     "execution_count": 8,
     "metadata": {},
     "output_type": "execute_result"
    }
   ],
   "source": [
    "df[\"Y\"] = df[\"Y\"].astype('category')\n",
    "# df[\"Y\"] = df[\"Y\"].cat.codes\n",
    "\n",
    "df.dtypes"
   ]
  },
  {
   "cell_type": "code",
   "execution_count": 97,
   "metadata": {},
   "outputs": [
    {
     "data": {
      "text/plain": [
       "(         X1        X2        X3        X4        X5        X6        X7  \\\n",
       " 0  0.463483  0.197339 -0.004313  0.522889 -0.207978  0.373110  0.808613   \n",
       " 1 -0.021751 -0.317193 -0.592582 -0.453937 -2.424218 -1.181111 -0.094359   \n",
       " 2  0.094291  0.196072 -0.508481 -0.988275 -0.580576  0.441788  0.280879   \n",
       " 3 -0.262279  0.161193  0.261580 -0.210060  1.078715 -0.952849  0.785183   \n",
       " 4  0.006534 -0.314165  0.075156 -0.531028 -0.473270 -1.393569 -0.536339   \n",
       " \n",
       "          X8        X9       X10       X11       X12       X14       X16  \n",
       " 0  0.714983  0.243792  0.455603 -0.260724 -0.505411  0.308001  0.074473  \n",
       " 1  0.456717 -0.553349 -1.537843 -0.822716 -1.168343 -0.445774 -2.204006  \n",
       " 2 -0.754575 -0.317789  0.465753 -0.507881 -0.662859 -1.196857  0.269581  \n",
       " 3 -0.529049  0.729604  0.184921  0.631328  0.611052 -0.425220  0.839113  \n",
       " 4 -0.011507 -1.780546 -0.136961 -0.766927 -1.800323 -0.584476 -1.107669  ,\n",
       " 0    B\n",
       " 1    E\n",
       " 2    B\n",
       " 3    B\n",
       " 4    E\n",
       " Name: Y, dtype: object)"
      ]
     },
     "execution_count": 97,
     "metadata": {},
     "output_type": "execute_result"
    }
   ],
   "source": [
    "# idx = [1]+[i for i in range(3,17)]\n",
    "# idx = [i for i in range(1,17)]\n",
    "idx = [1,2,3,4,5,6,7,8,9,10,11,12,14,16]\n",
    "X, y = df.iloc[:,idx],df.iloc[:,0]\n",
    "X.head(5),y.head(5)"
   ]
  },
  {
   "cell_type": "code",
   "execution_count": null,
   "metadata": {},
   "outputs": [],
   "source": []
  },
  {
   "cell_type": "code",
   "execution_count": 111,
   "metadata": {},
   "outputs": [],
   "source": [
    "from sklearn.model_selection import train_test_split\n",
    "from sklearn.preprocessing import StandardScaler\n",
    "from sklearn.datasets import make_moons, make_circles, make_classification\n",
    "from sklearn.neural_network import MLPClassifier\n",
    "from sklearn.neighbors import KNeighborsClassifier\n",
    "from sklearn.svm import SVC\n",
    "from sklearn.gaussian_process import GaussianProcessClassifier\n",
    "from sklearn.gaussian_process.kernels import RBF\n",
    "from sklearn.tree import DecisionTreeClassifier\n",
    "from sklearn.ensemble import RandomForestClassifier, AdaBoostClassifier, ExtraTreesClassifier\n",
    "from sklearn.naive_bayes import GaussianNB\n",
    "from sklearn.discriminant_analysis import QuadraticDiscriminantAnalysis\n",
    "from sklearn.linear_model import RidgeClassifier\n",
    "# 0.817 (+/-0.037) for {'activation': 'relu', 'alpha': 0.001, 'hidden_layer_sizes': (50, 50, 50), 'learning_rate': 'constant', 'solver': 'adam'}\n",
    "\n",
    "#gbm\n",
    "# 0.826 (+/-0.026) for {'max_features': 15, 'min_samples_leaf': 20, 'n_estimators': 150}\n",
    "\n",
    "num_feature = X.shape[1]\n",
    "\n",
    "classifiers = [\n",
    "#     ExtraTreesClassifier(),\n",
    "    ExtraTreesClassifier(max_features=num_feature,min_samples_leaf=20,n_estimators= 150,n_jobs=4, min_samples_split=25),\n",
    "    RidgeClassifier(),\n",
    "    KNeighborsClassifier(3),\n",
    "    SVC(kernel=\"linear\", C=0.025),\n",
    "#     SVC(gamma=2, C=1),\n",
    "#     DecisionTreeClassifier(max_depth=5),\n",
    "    RandomForestClassifier(max_depth=5, n_estimators=10, max_features=1),\n",
    "    MLPClassifier(alpha=1, max_iter=1000),\n",
    "#     MLPClassifier(alpha=0.001,hidden_layer_sizes=(50,50,50), max_iter=1000),\n",
    "    \n",
    "#     AdaBoostClassifier(),\n",
    "    GaussianNB(),\n",
    "    QuadraticDiscriminantAnalysis()]\n",
    "\n",
    "names = ['ExtraTree',\n",
    "         'Ridge',\n",
    "    \"Nearest Neighbors\", \"Linear SVM\", \n",
    "#          \"RBF SVM\", \n",
    "#          \"Decision Tree\", \n",
    "         \"Random Forest\", \"Neural Net\",\n",
    "#          \"AdaBoost\",\n",
    "         \"Naive Bayes\", \"QDA\"]\n"
   ]
  },
  {
   "cell_type": "code",
   "execution_count": 112,
   "metadata": {},
   "outputs": [
    {
     "data": {
      "application/vnd.jupyter.widget-view+json": {
       "model_id": "882699e8fcbc4a46a7c97076fcae988e",
       "version_major": 2,
       "version_minor": 0
      },
      "text/plain": [
       "HBox(children=(FloatProgress(value=1.0, bar_style='info', max=1.0), HTML(value='')))"
      ]
     },
     "metadata": {},
     "output_type": "display_data"
    },
    {
     "name": "stdout",
     "output_type": "stream",
     "text": [
      "ExtraTree [0.814, 0.805, 0.839, 0.786, 0.825, 0.806, 0.848, 0.8, 0.773, 0.879]\n",
      "Ridge [0.79, 0.702, 0.8, 0.739, 0.74, 0.716, 0.803, 0.764, 0.757, 0.784]\n",
      "Nearest Neighbors [0.755, 0.772, 0.732, 0.705, 0.74, 0.765, 0.756, 0.751, 0.73, 0.82]\n",
      "Linear SVM [0.775, 0.812, 0.819, 0.777, 0.801, 0.797, 0.829, 0.779, 0.748, 0.883]\n",
      "Random Forest [0.754, 0.752, 0.801, 0.737, 0.797, 0.801, 0.742, 0.732, 0.737, 0.756]\n",
      "Neural Net [0.812, 0.862, 0.825, 0.736, 0.85, 0.842, 0.837, 0.827, 0.794, 0.897]\n",
      "Naive Bayes [0.789, 0.791, 0.788, 0.747, 0.791, 0.79, 0.757, 0.751, 0.732, 0.847]\n",
      "QDA [0.809, 0.835, 0.788, 0.758, 0.794, 0.822, 0.786, 0.804, 0.785, 0.852]\n",
      "\n",
      "Wall time: 1min 36s\n"
     ]
    }
   ],
   "source": [
    "%%time\n",
    "from sklearn import metrics\n",
    "from sklearn.model_selection import cross_val_score\n",
    "from tqdm.notebook import tqdm\n",
    "\n",
    "\n",
    "# X = StandardScaler().fit_transform(X)\n",
    "\n",
    "scores ={}\n",
    "for clf,name in tqdm(zip(classifiers[:],names)):\n",
    "    cv_scores = cross_val_score(\n",
    "        clf, X, y, cv=10, scoring='balanced_accuracy')\n",
    "    \n",
    "    scores[name] =  list(np.around(np.array(cv_scores),3))\n",
    "\n",
    "    \n",
    "\n",
    "    print(name, scores[name])"
   ]
  },
  {
   "cell_type": "code",
   "execution_count": 113,
   "metadata": {},
   "outputs": [
    {
     "name": "stdout",
     "output_type": "stream",
     "text": [
      "ExtraTree 0.8174999999999999\n",
      "Ridge 0.7595\n",
      "Nearest Neighbors 0.7525999999999999\n",
      "Linear SVM 0.8020000000000002\n",
      "Random Forest 0.7609\n",
      "Neural Net 0.8282\n",
      "Naive Bayes 0.7783000000000001\n",
      "QDA 0.8033000000000001\n"
     ]
    }
   ],
   "source": [
    "for k, v in scores.items():\n",
    "    print(k, np.mean(v))"
   ]
  },
  {
   "cell_type": "code",
   "execution_count": 114,
   "metadata": {},
   "outputs": [
    {
     "data": {
      "text/html": [
       "<div>\n",
       "<style scoped>\n",
       "    .dataframe tbody tr th:only-of-type {\n",
       "        vertical-align: middle;\n",
       "    }\n",
       "\n",
       "    .dataframe tbody tr th {\n",
       "        vertical-align: top;\n",
       "    }\n",
       "\n",
       "    .dataframe thead th {\n",
       "        text-align: right;\n",
       "    }\n",
       "</style>\n",
       "<table border=\"1\" class=\"dataframe\">\n",
       "  <thead>\n",
       "    <tr style=\"text-align: right;\">\n",
       "      <th></th>\n",
       "      <th>ExtraTree</th>\n",
       "      <th>Ridge</th>\n",
       "      <th>Nearest Neighbors</th>\n",
       "      <th>Linear SVM</th>\n",
       "      <th>Random Forest</th>\n",
       "      <th>Neural Net</th>\n",
       "      <th>Naive Bayes</th>\n",
       "      <th>QDA</th>\n",
       "    </tr>\n",
       "  </thead>\n",
       "  <tbody>\n",
       "    <tr>\n",
       "      <th>0</th>\n",
       "      <td>0.814</td>\n",
       "      <td>0.790</td>\n",
       "      <td>0.755</td>\n",
       "      <td>0.775</td>\n",
       "      <td>0.754</td>\n",
       "      <td>0.812</td>\n",
       "      <td>0.789</td>\n",
       "      <td>0.809</td>\n",
       "    </tr>\n",
       "    <tr>\n",
       "      <th>1</th>\n",
       "      <td>0.805</td>\n",
       "      <td>0.702</td>\n",
       "      <td>0.772</td>\n",
       "      <td>0.812</td>\n",
       "      <td>0.752</td>\n",
       "      <td>0.862</td>\n",
       "      <td>0.791</td>\n",
       "      <td>0.835</td>\n",
       "    </tr>\n",
       "    <tr>\n",
       "      <th>2</th>\n",
       "      <td>0.839</td>\n",
       "      <td>0.800</td>\n",
       "      <td>0.732</td>\n",
       "      <td>0.819</td>\n",
       "      <td>0.801</td>\n",
       "      <td>0.825</td>\n",
       "      <td>0.788</td>\n",
       "      <td>0.788</td>\n",
       "    </tr>\n",
       "    <tr>\n",
       "      <th>3</th>\n",
       "      <td>0.786</td>\n",
       "      <td>0.739</td>\n",
       "      <td>0.705</td>\n",
       "      <td>0.777</td>\n",
       "      <td>0.737</td>\n",
       "      <td>0.736</td>\n",
       "      <td>0.747</td>\n",
       "      <td>0.758</td>\n",
       "    </tr>\n",
       "    <tr>\n",
       "      <th>4</th>\n",
       "      <td>0.825</td>\n",
       "      <td>0.740</td>\n",
       "      <td>0.740</td>\n",
       "      <td>0.801</td>\n",
       "      <td>0.797</td>\n",
       "      <td>0.850</td>\n",
       "      <td>0.791</td>\n",
       "      <td>0.794</td>\n",
       "    </tr>\n",
       "    <tr>\n",
       "      <th>5</th>\n",
       "      <td>0.806</td>\n",
       "      <td>0.716</td>\n",
       "      <td>0.765</td>\n",
       "      <td>0.797</td>\n",
       "      <td>0.801</td>\n",
       "      <td>0.842</td>\n",
       "      <td>0.790</td>\n",
       "      <td>0.822</td>\n",
       "    </tr>\n",
       "    <tr>\n",
       "      <th>6</th>\n",
       "      <td>0.848</td>\n",
       "      <td>0.803</td>\n",
       "      <td>0.756</td>\n",
       "      <td>0.829</td>\n",
       "      <td>0.742</td>\n",
       "      <td>0.837</td>\n",
       "      <td>0.757</td>\n",
       "      <td>0.786</td>\n",
       "    </tr>\n",
       "    <tr>\n",
       "      <th>7</th>\n",
       "      <td>0.800</td>\n",
       "      <td>0.764</td>\n",
       "      <td>0.751</td>\n",
       "      <td>0.779</td>\n",
       "      <td>0.732</td>\n",
       "      <td>0.827</td>\n",
       "      <td>0.751</td>\n",
       "      <td>0.804</td>\n",
       "    </tr>\n",
       "    <tr>\n",
       "      <th>8</th>\n",
       "      <td>0.773</td>\n",
       "      <td>0.757</td>\n",
       "      <td>0.730</td>\n",
       "      <td>0.748</td>\n",
       "      <td>0.737</td>\n",
       "      <td>0.794</td>\n",
       "      <td>0.732</td>\n",
       "      <td>0.785</td>\n",
       "    </tr>\n",
       "    <tr>\n",
       "      <th>9</th>\n",
       "      <td>0.879</td>\n",
       "      <td>0.784</td>\n",
       "      <td>0.820</td>\n",
       "      <td>0.883</td>\n",
       "      <td>0.756</td>\n",
       "      <td>0.897</td>\n",
       "      <td>0.847</td>\n",
       "      <td>0.852</td>\n",
       "    </tr>\n",
       "  </tbody>\n",
       "</table>\n",
       "</div>"
      ],
      "text/plain": [
       "   ExtraTree  Ridge  Nearest Neighbors  Linear SVM  Random Forest  Neural Net  \\\n",
       "0      0.814  0.790              0.755       0.775          0.754       0.812   \n",
       "1      0.805  0.702              0.772       0.812          0.752       0.862   \n",
       "2      0.839  0.800              0.732       0.819          0.801       0.825   \n",
       "3      0.786  0.739              0.705       0.777          0.737       0.736   \n",
       "4      0.825  0.740              0.740       0.801          0.797       0.850   \n",
       "5      0.806  0.716              0.765       0.797          0.801       0.842   \n",
       "6      0.848  0.803              0.756       0.829          0.742       0.837   \n",
       "7      0.800  0.764              0.751       0.779          0.732       0.827   \n",
       "8      0.773  0.757              0.730       0.748          0.737       0.794   \n",
       "9      0.879  0.784              0.820       0.883          0.756       0.897   \n",
       "\n",
       "   Naive Bayes    QDA  \n",
       "0        0.789  0.809  \n",
       "1        0.791  0.835  \n",
       "2        0.788  0.788  \n",
       "3        0.747  0.758  \n",
       "4        0.791  0.794  \n",
       "5        0.790  0.822  \n",
       "6        0.757  0.786  \n",
       "7        0.751  0.804  \n",
       "8        0.732  0.785  \n",
       "9        0.847  0.852  "
      ]
     },
     "execution_count": 114,
     "metadata": {},
     "output_type": "execute_result"
    }
   ],
   "source": [
    "df_score=pd.DataFrame(scores)\n",
    "df_score"
   ]
  },
  {
   "cell_type": "code",
   "execution_count": 115,
   "metadata": {},
   "outputs": [
    {
     "data": {
      "text/plain": [
       "(array([1, 2, 3, 4, 5, 6, 7, 8]),\n",
       " [Text(1, 0, 'ExtraTree'),\n",
       "  Text(2, 0, 'Ridge'),\n",
       "  Text(3, 0, 'Nearest Neighbors'),\n",
       "  Text(4, 0, 'Linear SVM'),\n",
       "  Text(5, 0, 'Random Forest'),\n",
       "  Text(6, 0, 'Neural Net'),\n",
       "  Text(7, 0, 'Naive Bayes'),\n",
       "  Text(8, 0, 'QDA')])"
      ]
     },
     "execution_count": 115,
     "metadata": {},
     "output_type": "execute_result"
    },
    {
     "data": {
      "image/png": "[encoded data removed]",
      "text/plain": [
       "<Figure size 640x480 with 1 Axes>"
      ]
     },
     "metadata": {},
     "output_type": "display_data"
    }
   ],
   "source": [
    "import matplotlib.pyplot as plt\n",
    "\n",
    "boxplot = df_score.boxplot(column=list(df_score))\n",
    "plt.xticks(rotation=90)\n"
   ]
  },
  {
   "cell_type": "code",
   "execution_count": null,
   "metadata": {},
   "outputs": [],
   "source": []
  },
  {
   "cell_type": "code",
   "execution_count": 116,
   "metadata": {},
   "outputs": [],
   "source": [
    "from sklearn.neural_network import MLPClassifier\n",
    "mlp = MLPClassifier(max_iter=100)"
   ]
  },
  {
   "cell_type": "code",
   "execution_count": 117,
   "metadata": {},
   "outputs": [],
   "source": [
    "parameter_space = {\n",
    "    'hidden_layer_sizes': [(50,50,50), (50,100,50), (100,)],\n",
    "#     'activation': ['tanh', 'relu'],\n",
    "    'activation': ['relu'],\n",
    "#     'solver': ['sgd', 'adam'],\n",
    "    'solver': ['adam'],\n",
    "    'alpha': [0.0001,0.001, 0.01,0.05,0.1],\n",
    "#     'learning_rate': ['constant','adaptive'],\n",
    "    'learning_rate': ['constant'],\n",
    "}\n",
    "\n",
    "# X_train, X_test, y_train, y_test = train_test_split(X, y,\n",
    "#                                                     random_state=1)\n",
    "X_train = X\n",
    "y_train = y"
   ]
  },
  {
   "cell_type": "code",
   "execution_count": 118,
   "metadata": {},
   "outputs": [
    {
     "name": "stderr",
     "output_type": "stream",
     "text": [
      "D:\\Programs\\Anaconda3\\envs\\tf_gpu15\\lib\\site-packages\\sklearn\\neural_network\\_multilayer_perceptron.py:571: ConvergenceWarning: Stochastic Optimizer: Maximum iterations (100) reached and the optimization hasn't converged yet.\n",
      "  % self.max_iter, ConvergenceWarning)\n"
     ]
    },
    {
     "data": {
      "text/plain": [
       "GridSearchCV(cv=10, error_score=nan,\n",
       "             estimator=MLPClassifier(activation='relu', alpha=0.0001,\n",
       "                                     batch_size='auto', beta_1=0.9,\n",
       "                                     beta_2=0.999, early_stopping=False,\n",
       "                                     epsilon=1e-08, hidden_layer_sizes=(100,),\n",
       "                                     learning_rate='constant',\n",
       "                                     learning_rate_init=0.001, max_fun=15000,\n",
       "                                     max_iter=100, momentum=0.9,\n",
       "                                     n_iter_no_change=10,\n",
       "                                     nesterovs_momentum=True, power_t=0.5,\n",
       "                                     random_stat...\n",
       "                                     solver='adam', tol=0.0001,\n",
       "                                     validation_fraction=0.1, verbose=False,\n",
       "                                     warm_start=False),\n",
       "             iid='deprecated', n_jobs=-1,\n",
       "             param_grid={'activation': ['relu'],\n",
       "                         'alpha': [0.0001, 0.001, 0.01, 0.05, 0.1],\n",
       "                         'hidden_layer_sizes': [(50, 50, 50), (50, 100, 50),\n",
       "                                                (100,)],\n",
       "                         'learning_rate': ['constant'], 'solver': ['adam']},\n",
       "             pre_dispatch='2*n_jobs', refit=True, return_train_score=False,\n",
       "             scoring=None, verbose=0)"
      ]
     },
     "execution_count": 118,
     "metadata": {},
     "output_type": "execute_result"
    }
   ],
   "source": [
    "from sklearn.model_selection import GridSearchCV\n",
    "\n",
    "clf = GridSearchCV(mlp, parameter_space, n_jobs=-1, cv=10)\n",
    "clf.fit(X_train, y_train)"
   ]
  },
  {
   "cell_type": "code",
   "execution_count": 119,
   "metadata": {},
   "outputs": [
    {
     "name": "stdout",
     "output_type": "stream",
     "text": [
      "Best parameters found:\n",
      " {'activation': 'relu', 'alpha': 0.01, 'hidden_layer_sizes': (100,), 'learning_rate': 'constant', 'solver': 'adam'}\n",
      "\n",
      "0.801 (+/-0.044) for {'activation': 'relu', 'alpha': 0.0001, 'hidden_layer_sizes': (50, 50, 50), 'learning_rate': 'constant', 'solver': 'adam'}\n",
      "0.804 (+/-0.055) for {'activation': 'relu', 'alpha': 0.0001, 'hidden_layer_sizes': (50, 100, 50), 'learning_rate': 'constant', 'solver': 'adam'}\n",
      "0.797 (+/-0.068) for {'activation': 'relu', 'alpha': 0.0001, 'hidden_layer_sizes': (100,), 'learning_rate': 'constant', 'solver': 'adam'}\n",
      "0.793 (+/-0.057) for {'activation': 'relu', 'alpha': 0.001, 'hidden_layer_sizes': (50, 50, 50), 'learning_rate': 'constant', 'solver': 'adam'}\n",
      "0.800 (+/-0.042) for {'activation': 'relu', 'alpha': 0.001, 'hidden_layer_sizes': (50, 100, 50), 'learning_rate': 'constant', 'solver': 'adam'}\n",
      "0.801 (+/-0.065) for {'activation': 'relu', 'alpha': 0.001, 'hidden_layer_sizes': (100,), 'learning_rate': 'constant', 'solver': 'adam'}\n",
      "0.785 (+/-0.055) for {'activation': 'relu', 'alpha': 0.01, 'hidden_layer_sizes': (50, 50, 50), 'learning_rate': 'constant', 'solver': 'adam'}\n",
      "0.790 (+/-0.059) for {'activation': 'relu', 'alpha': 0.01, 'hidden_layer_sizes': (50, 100, 50), 'learning_rate': 'constant', 'solver': 'adam'}\n",
      "0.810 (+/-0.090) for {'activation': 'relu', 'alpha': 0.01, 'hidden_layer_sizes': (100,), 'learning_rate': 'constant', 'solver': 'adam'}\n",
      "0.802 (+/-0.053) for {'activation': 'relu', 'alpha': 0.05, 'hidden_layer_sizes': (50, 50, 50), 'learning_rate': 'constant', 'solver': 'adam'}\n",
      "0.798 (+/-0.046) for {'activation': 'relu', 'alpha': 0.05, 'hidden_layer_sizes': (50, 100, 50), 'learning_rate': 'constant', 'solver': 'adam'}\n",
      "0.805 (+/-0.063) for {'activation': 'relu', 'alpha': 0.05, 'hidden_layer_sizes': (100,), 'learning_rate': 'constant', 'solver': 'adam'}\n",
      "0.787 (+/-0.094) for {'activation': 'relu', 'alpha': 0.1, 'hidden_layer_sizes': (50, 50, 50), 'learning_rate': 'constant', 'solver': 'adam'}\n",
      "0.788 (+/-0.057) for {'activation': 'relu', 'alpha': 0.1, 'hidden_layer_sizes': (50, 100, 50), 'learning_rate': 'constant', 'solver': 'adam'}\n",
      "0.800 (+/-0.088) for {'activation': 'relu', 'alpha': 0.1, 'hidden_layer_sizes': (100,), 'learning_rate': 'constant', 'solver': 'adam'}\n"
     ]
    }
   ],
   "source": [
    "# Best paramete set\n",
    "print('Best parameters found:\\n', clf.best_params_)\n",
    "print()\n",
    "# All results\n",
    "means = clf.cv_results_['mean_test_score']\n",
    "stds = clf.cv_results_['std_test_score']\n",
    "for mean, std, params in zip(means, stds, clf.cv_results_['params']):\n",
    "    print(\"%0.3f (+/-%0.03f) for %r\" % (mean, std * 2, params))"
   ]
  },
  {
   "cell_type": "code",
   "execution_count": 24,
   "metadata": {},
   "outputs": [
    {
     "data": {
      "text/plain": [
       "15"
      ]
     },
     "execution_count": 24,
     "metadata": {},
     "output_type": "execute_result"
    }
   ],
   "source": [
    "X.shape[1]"
   ]
  },
  {
   "cell_type": "code",
   "execution_count": 53,
   "metadata": {},
   "outputs": [],
   "source": [
    "from sklearn.ensemble import ExtraTreesClassifier\n",
    "\n",
    "num_feature = X.shape[1]\n",
    "\n",
    "parameter_space = {\n",
    "#                    'n_estimators': range(50,126,25),\n",
    "                   'n_estimators': range(50,226,25),\n",
    "    \n",
    "        'max_features': range(1,num_feature+1,2),\n",
    "        'min_samples_leaf': range(20,50,10),\n",
    "#         'min_samples_split': range(15,36,5),\n",
    "                  }\n",
    "\n",
    "# gbm=ExtraTreesClassifier()\n",
    "\n",
    "# gbm = ExtraTreesClassifier(n_estimators=100, n_jobs=4, min_samples_split=25,\n",
    "#                             min_samples_leaf=35)\n",
    "\n",
    "\n",
    "# gbm = ExtraTreesClassifier(n_jobs=4, min_samples_split=25,\n",
    "#                             min_samples_leaf=35)\n",
    "\n",
    "\n",
    "gbm = ExtraTreesClassifier(n_jobs=4, min_samples_split=25)"
   ]
  },
  {
   "cell_type": "code",
   "execution_count": null,
   "metadata": {},
   "outputs": [],
   "source": []
  },
  {
   "cell_type": "code",
   "execution_count": 54,
   "metadata": {},
   "outputs": [
    {
     "name": "stdout",
     "output_type": "stream",
     "text": [
      "Wall time: 2min 12s\n"
     ]
    },
    {
     "data": {
      "text/plain": [
       "GridSearchCV(cv=5, error_score=nan,\n",
       "             estimator=ExtraTreesClassifier(bootstrap=False, ccp_alpha=0.0,\n",
       "                                            class_weight=None, criterion='gini',\n",
       "                                            max_depth=None, max_features='auto',\n",
       "                                            max_leaf_nodes=None,\n",
       "                                            max_samples=None,\n",
       "                                            min_impurity_decrease=0.0,\n",
       "                                            min_impurity_split=None,\n",
       "                                            min_samples_leaf=1,\n",
       "                                            min_samples_split=25,\n",
       "                                            min_weight_fraction_leaf=0.0,\n",
       "                                            n_estimators=100, n_jobs=4,\n",
       "                                            oob_score=False, random_state=None,\n",
       "                                            verbose=0, warm_start=False),\n",
       "             iid='deprecated', n_jobs=-1,\n",
       "             param_grid={'max_features': range(1, 16, 2),\n",
       "                         'min_samples_leaf': range(20, 50, 10),\n",
       "                         'n_estimators': range(50, 226, 25)},\n",
       "             pre_dispatch='2*n_jobs', refit=True, return_train_score=False,\n",
       "             scoring=None, verbose=0)"
      ]
     },
     "execution_count": 54,
     "metadata": {},
     "output_type": "execute_result"
    }
   ],
   "source": [
    "%%time\n",
    "from sklearn.model_selection import GridSearchCV\n",
    "\n",
    "clf = GridSearchCV(gbm, parameter_space, n_jobs=-1, cv=5)\n",
    "clf.fit(X, y)"
   ]
  },
  {
   "cell_type": "code",
   "execution_count": 55,
   "metadata": {},
   "outputs": [
    {
     "name": "stdout",
     "output_type": "stream",
     "text": [
      "Best parameters found:\n",
      " {'max_features': 15, 'min_samples_leaf': 20, 'n_estimators': 150}\n",
      "\n",
      "0.719 (+/-0.055) for {'max_features': 1, 'min_samples_leaf': 20, 'n_estimators': 50}\n",
      "0.709 (+/-0.038) for {'max_features': 1, 'min_samples_leaf': 20, 'n_estimators': 75}\n",
      "0.711 (+/-0.038) for {'max_features': 1, 'min_samples_leaf': 20, 'n_estimators': 100}\n",
      "0.723 (+/-0.033) for {'max_features': 1, 'min_samples_leaf': 20, 'n_estimators': 125}\n",
      "0.707 (+/-0.047) for {'max_features': 1, 'min_samples_leaf': 20, 'n_estimators': 150}\n",
      "0.722 (+/-0.043) for {'max_features': 1, 'min_samples_leaf': 20, 'n_estimators': 175}\n",
      "0.717 (+/-0.024) for {'max_features': 1, 'min_samples_leaf': 20, 'n_estimators': 200}\n",
      "0.715 (+/-0.043) for {'max_features': 1, 'min_samples_leaf': 20, 'n_estimators': 225}\n",
      "0.693 (+/-0.025) for {'max_features': 1, 'min_samples_leaf': 30, 'n_estimators': 50}\n",
      "0.690 (+/-0.047) for {'max_features': 1, 'min_samples_leaf': 30, 'n_estimators': 75}\n",
      "0.669 (+/-0.078) for {'max_features': 1, 'min_samples_leaf': 30, 'n_estimators': 100}\n",
      "0.683 (+/-0.070) for {'max_features': 1, 'min_samples_leaf': 30, 'n_estimators': 125}\n",
      "0.679 (+/-0.053) for {'max_features': 1, 'min_samples_leaf': 30, 'n_estimators': 150}\n",
      "0.693 (+/-0.059) for {'max_features': 1, 'min_samples_leaf': 30, 'n_estimators': 175}\n",
      "0.701 (+/-0.019) for {'max_features': 1, 'min_samples_leaf': 30, 'n_estimators': 200}\n",
      "0.697 (+/-0.045) for {'max_features': 1, 'min_samples_leaf': 30, 'n_estimators': 225}\n",
      "0.678 (+/-0.039) for {'max_features': 1, 'min_samples_leaf': 40, 'n_estimators': 50}\n",
      "0.666 (+/-0.074) for {'max_features': 1, 'min_samples_leaf': 40, 'n_estimators': 75}\n",
      "0.677 (+/-0.089) for {'max_features': 1, 'min_samples_leaf': 40, 'n_estimators': 100}\n",
      "0.686 (+/-0.040) for {'max_features': 1, 'min_samples_leaf': 40, 'n_estimators': 125}\n",
      "0.677 (+/-0.025) for {'max_features': 1, 'min_samples_leaf': 40, 'n_estimators': 150}\n",
      "0.673 (+/-0.039) for {'max_features': 1, 'min_samples_leaf': 40, 'n_estimators': 175}\n",
      "0.668 (+/-0.054) for {'max_features': 1, 'min_samples_leaf': 40, 'n_estimators': 200}\n",
      "0.680 (+/-0.054) for {'max_features': 1, 'min_samples_leaf': 40, 'n_estimators': 225}\n",
      "0.788 (+/-0.010) for {'max_features': 3, 'min_samples_leaf': 20, 'n_estimators': 50}\n",
      "0.787 (+/-0.046) for {'max_features': 3, 'min_samples_leaf': 20, 'n_estimators': 75}\n",
      "0.788 (+/-0.033) for {'max_features': 3, 'min_samples_leaf': 20, 'n_estimators': 100}\n",
      "0.786 (+/-0.039) for {'max_features': 3, 'min_samples_leaf': 20, 'n_estimators': 125}\n",
      "0.786 (+/-0.019) for {'max_features': 3, 'min_samples_leaf': 20, 'n_estimators': 150}\n",
      "0.794 (+/-0.020) for {'max_features': 3, 'min_samples_leaf': 20, 'n_estimators': 175}\n",
      "0.786 (+/-0.027) for {'max_features': 3, 'min_samples_leaf': 20, 'n_estimators': 200}\n",
      "0.790 (+/-0.020) for {'max_features': 3, 'min_samples_leaf': 20, 'n_estimators': 225}\n",
      "0.765 (+/-0.042) for {'max_features': 3, 'min_samples_leaf': 30, 'n_estimators': 50}\n",
      "0.768 (+/-0.024) for {'max_features': 3, 'min_samples_leaf': 30, 'n_estimators': 75}\n",
      "0.778 (+/-0.014) for {'max_features': 3, 'min_samples_leaf': 30, 'n_estimators': 100}\n",
      "0.771 (+/-0.033) for {'max_features': 3, 'min_samples_leaf': 30, 'n_estimators': 125}\n",
      "0.770 (+/-0.029) for {'max_features': 3, 'min_samples_leaf': 30, 'n_estimators': 150}\n",
      "0.787 (+/-0.027) for {'max_features': 3, 'min_samples_leaf': 30, 'n_estimators': 175}\n",
      "0.778 (+/-0.034) for {'max_features': 3, 'min_samples_leaf': 30, 'n_estimators': 200}\n",
      "0.773 (+/-0.019) for {'max_features': 3, 'min_samples_leaf': 30, 'n_estimators': 225}\n",
      "0.757 (+/-0.045) for {'max_features': 3, 'min_samples_leaf': 40, 'n_estimators': 50}\n",
      "0.765 (+/-0.032) for {'max_features': 3, 'min_samples_leaf': 40, 'n_estimators': 75}\n",
      "0.768 (+/-0.025) for {'max_features': 3, 'min_samples_leaf': 40, 'n_estimators': 100}\n",
      "0.763 (+/-0.017) for {'max_features': 3, 'min_samples_leaf': 40, 'n_estimators': 125}\n",
      "0.765 (+/-0.026) for {'max_features': 3, 'min_samples_leaf': 40, 'n_estimators': 150}\n",
      "0.769 (+/-0.031) for {'max_features': 3, 'min_samples_leaf': 40, 'n_estimators': 175}\n",
      "0.767 (+/-0.005) for {'max_features': 3, 'min_samples_leaf': 40, 'n_estimators': 200}\n",
      "0.764 (+/-0.024) for {'max_features': 3, 'min_samples_leaf': 40, 'n_estimators': 225}\n",
      "0.799 (+/-0.016) for {'max_features': 5, 'min_samples_leaf': 20, 'n_estimators': 50}\n",
      "0.808 (+/-0.010) for {'max_features': 5, 'min_samples_leaf': 20, 'n_estimators': 75}\n",
      "0.793 (+/-0.022) for {'max_features': 5, 'min_samples_leaf': 20, 'n_estimators': 100}\n",
      "0.808 (+/-0.008) for {'max_features': 5, 'min_samples_leaf': 20, 'n_estimators': 125}\n",
      "0.801 (+/-0.021) for {'max_features': 5, 'min_samples_leaf': 20, 'n_estimators': 150}\n",
      "0.796 (+/-0.012) for {'max_features': 5, 'min_samples_leaf': 20, 'n_estimators': 175}\n",
      "0.807 (+/-0.010) for {'max_features': 5, 'min_samples_leaf': 20, 'n_estimators': 200}\n",
      "0.804 (+/-0.016) for {'max_features': 5, 'min_samples_leaf': 20, 'n_estimators': 225}\n",
      "0.785 (+/-0.011) for {'max_features': 5, 'min_samples_leaf': 30, 'n_estimators': 50}\n",
      "0.789 (+/-0.023) for {'max_features': 5, 'min_samples_leaf': 30, 'n_estimators': 75}\n",
      "0.791 (+/-0.018) for {'max_features': 5, 'min_samples_leaf': 30, 'n_estimators': 100}\n",
      "0.794 (+/-0.010) for {'max_features': 5, 'min_samples_leaf': 30, 'n_estimators': 125}\n",
      "0.791 (+/-0.024) for {'max_features': 5, 'min_samples_leaf': 30, 'n_estimators': 150}\n",
      "0.791 (+/-0.026) for {'max_features': 5, 'min_samples_leaf': 30, 'n_estimators': 175}\n",
      "0.788 (+/-0.031) for {'max_features': 5, 'min_samples_leaf': 30, 'n_estimators': 200}\n",
      "0.797 (+/-0.012) for {'max_features': 5, 'min_samples_leaf': 30, 'n_estimators': 225}\n",
      "0.775 (+/-0.038) for {'max_features': 5, 'min_samples_leaf': 40, 'n_estimators': 50}\n",
      "0.774 (+/-0.037) for {'max_features': 5, 'min_samples_leaf': 40, 'n_estimators': 75}\n",
      "0.774 (+/-0.032) for {'max_features': 5, 'min_samples_leaf': 40, 'n_estimators': 100}\n",
      "0.783 (+/-0.021) for {'max_features': 5, 'min_samples_leaf': 40, 'n_estimators': 125}\n",
      "0.779 (+/-0.036) for {'max_features': 5, 'min_samples_leaf': 40, 'n_estimators': 150}\n",
      "0.791 (+/-0.016) for {'max_features': 5, 'min_samples_leaf': 40, 'n_estimators': 175}\n",
      "0.780 (+/-0.024) for {'max_features': 5, 'min_samples_leaf': 40, 'n_estimators': 200}\n",
      "0.780 (+/-0.029) for {'max_features': 5, 'min_samples_leaf': 40, 'n_estimators': 225}\n",
      "0.802 (+/-0.017) for {'max_features': 7, 'min_samples_leaf': 20, 'n_estimators': 50}\n",
      "0.816 (+/-0.023) for {'max_features': 7, 'min_samples_leaf': 20, 'n_estimators': 75}\n",
      "0.808 (+/-0.026) for {'max_features': 7, 'min_samples_leaf': 20, 'n_estimators': 100}\n",
      "0.807 (+/-0.014) for {'max_features': 7, 'min_samples_leaf': 20, 'n_estimators': 125}\n",
      "0.809 (+/-0.012) for {'max_features': 7, 'min_samples_leaf': 20, 'n_estimators': 150}\n",
      "0.807 (+/-0.016) for {'max_features': 7, 'min_samples_leaf': 20, 'n_estimators': 175}\n",
      "0.812 (+/-0.014) for {'max_features': 7, 'min_samples_leaf': 20, 'n_estimators': 200}\n",
      "0.807 (+/-0.016) for {'max_features': 7, 'min_samples_leaf': 20, 'n_estimators': 225}\n",
      "0.794 (+/-0.026) for {'max_features': 7, 'min_samples_leaf': 30, 'n_estimators': 50}\n",
      "0.799 (+/-0.015) for {'max_features': 7, 'min_samples_leaf': 30, 'n_estimators': 75}\n",
      "0.801 (+/-0.017) for {'max_features': 7, 'min_samples_leaf': 30, 'n_estimators': 100}\n",
      "0.805 (+/-0.018) for {'max_features': 7, 'min_samples_leaf': 30, 'n_estimators': 125}\n",
      "0.799 (+/-0.022) for {'max_features': 7, 'min_samples_leaf': 30, 'n_estimators': 150}\n",
      "0.807 (+/-0.016) for {'max_features': 7, 'min_samples_leaf': 30, 'n_estimators': 175}\n",
      "0.802 (+/-0.008) for {'max_features': 7, 'min_samples_leaf': 30, 'n_estimators': 200}\n",
      "0.799 (+/-0.010) for {'max_features': 7, 'min_samples_leaf': 30, 'n_estimators': 225}\n",
      "0.784 (+/-0.032) for {'max_features': 7, 'min_samples_leaf': 40, 'n_estimators': 50}\n",
      "0.783 (+/-0.022) for {'max_features': 7, 'min_samples_leaf': 40, 'n_estimators': 75}\n",
      "0.791 (+/-0.015) for {'max_features': 7, 'min_samples_leaf': 40, 'n_estimators': 100}\n",
      "0.792 (+/-0.034) for {'max_features': 7, 'min_samples_leaf': 40, 'n_estimators': 125}\n",
      "0.790 (+/-0.030) for {'max_features': 7, 'min_samples_leaf': 40, 'n_estimators': 150}\n",
      "0.799 (+/-0.023) for {'max_features': 7, 'min_samples_leaf': 40, 'n_estimators': 175}\n",
      "0.793 (+/-0.034) for {'max_features': 7, 'min_samples_leaf': 40, 'n_estimators': 200}\n",
      "0.794 (+/-0.023) for {'max_features': 7, 'min_samples_leaf': 40, 'n_estimators': 225}\n",
      "0.812 (+/-0.033) for {'max_features': 9, 'min_samples_leaf': 20, 'n_estimators': 50}\n",
      "0.810 (+/-0.014) for {'max_features': 9, 'min_samples_leaf': 20, 'n_estimators': 75}\n",
      "0.813 (+/-0.022) for {'max_features': 9, 'min_samples_leaf': 20, 'n_estimators': 100}\n",
      "0.818 (+/-0.026) for {'max_features': 9, 'min_samples_leaf': 20, 'n_estimators': 125}\n",
      "0.819 (+/-0.012) for {'max_features': 9, 'min_samples_leaf': 20, 'n_estimators': 150}\n",
      "0.813 (+/-0.022) for {'max_features': 9, 'min_samples_leaf': 20, 'n_estimators': 175}\n",
      "0.813 (+/-0.005) for {'max_features': 9, 'min_samples_leaf': 20, 'n_estimators': 200}\n",
      "0.820 (+/-0.020) for {'max_features': 9, 'min_samples_leaf': 20, 'n_estimators': 225}\n",
      "0.803 (+/-0.030) for {'max_features': 9, 'min_samples_leaf': 30, 'n_estimators': 50}\n",
      "0.802 (+/-0.016) for {'max_features': 9, 'min_samples_leaf': 30, 'n_estimators': 75}\n",
      "0.804 (+/-0.020) for {'max_features': 9, 'min_samples_leaf': 30, 'n_estimators': 100}\n",
      "0.801 (+/-0.021) for {'max_features': 9, 'min_samples_leaf': 30, 'n_estimators': 125}\n",
      "0.803 (+/-0.015) for {'max_features': 9, 'min_samples_leaf': 30, 'n_estimators': 150}\n",
      "0.809 (+/-0.019) for {'max_features': 9, 'min_samples_leaf': 30, 'n_estimators': 175}\n",
      "0.810 (+/-0.018) for {'max_features': 9, 'min_samples_leaf': 30, 'n_estimators': 200}\n",
      "0.807 (+/-0.012) for {'max_features': 9, 'min_samples_leaf': 30, 'n_estimators': 225}\n",
      "0.798 (+/-0.033) for {'max_features': 9, 'min_samples_leaf': 40, 'n_estimators': 50}\n",
      "0.803 (+/-0.010) for {'max_features': 9, 'min_samples_leaf': 40, 'n_estimators': 75}\n",
      "0.803 (+/-0.017) for {'max_features': 9, 'min_samples_leaf': 40, 'n_estimators': 100}\n",
      "0.800 (+/-0.022) for {'max_features': 9, 'min_samples_leaf': 40, 'n_estimators': 125}\n",
      "0.798 (+/-0.034) for {'max_features': 9, 'min_samples_leaf': 40, 'n_estimators': 150}\n",
      "0.796 (+/-0.013) for {'max_features': 9, 'min_samples_leaf': 40, 'n_estimators': 175}\n",
      "0.799 (+/-0.032) for {'max_features': 9, 'min_samples_leaf': 40, 'n_estimators': 200}\n",
      "0.794 (+/-0.012) for {'max_features': 9, 'min_samples_leaf': 40, 'n_estimators': 225}\n",
      "0.815 (+/-0.022) for {'max_features': 11, 'min_samples_leaf': 20, 'n_estimators': 50}\n",
      "0.817 (+/-0.031) for {'max_features': 11, 'min_samples_leaf': 20, 'n_estimators': 75}\n",
      "0.814 (+/-0.023) for {'max_features': 11, 'min_samples_leaf': 20, 'n_estimators': 100}\n",
      "0.817 (+/-0.033) for {'max_features': 11, 'min_samples_leaf': 20, 'n_estimators': 125}\n",
      "0.811 (+/-0.019) for {'max_features': 11, 'min_samples_leaf': 20, 'n_estimators': 150}\n",
      "0.821 (+/-0.017) for {'max_features': 11, 'min_samples_leaf': 20, 'n_estimators': 175}\n",
      "0.821 (+/-0.019) for {'max_features': 11, 'min_samples_leaf': 20, 'n_estimators': 200}\n",
      "0.819 (+/-0.029) for {'max_features': 11, 'min_samples_leaf': 20, 'n_estimators': 225}\n",
      "0.801 (+/-0.032) for {'max_features': 11, 'min_samples_leaf': 30, 'n_estimators': 50}\n",
      "0.800 (+/-0.023) for {'max_features': 11, 'min_samples_leaf': 30, 'n_estimators': 75}\n",
      "0.808 (+/-0.024) for {'max_features': 11, 'min_samples_leaf': 30, 'n_estimators': 100}\n",
      "0.804 (+/-0.032) for {'max_features': 11, 'min_samples_leaf': 30, 'n_estimators': 125}\n",
      "0.814 (+/-0.026) for {'max_features': 11, 'min_samples_leaf': 30, 'n_estimators': 150}\n",
      "0.805 (+/-0.017) for {'max_features': 11, 'min_samples_leaf': 30, 'n_estimators': 175}\n",
      "0.808 (+/-0.025) for {'max_features': 11, 'min_samples_leaf': 30, 'n_estimators': 200}\n",
      "0.803 (+/-0.016) for {'max_features': 11, 'min_samples_leaf': 30, 'n_estimators': 225}\n",
      "0.803 (+/-0.027) for {'max_features': 11, 'min_samples_leaf': 40, 'n_estimators': 50}\n",
      "0.798 (+/-0.019) for {'max_features': 11, 'min_samples_leaf': 40, 'n_estimators': 75}\n",
      "0.797 (+/-0.015) for {'max_features': 11, 'min_samples_leaf': 40, 'n_estimators': 100}\n",
      "0.798 (+/-0.015) for {'max_features': 11, 'min_samples_leaf': 40, 'n_estimators': 125}\n",
      "0.796 (+/-0.025) for {'max_features': 11, 'min_samples_leaf': 40, 'n_estimators': 150}\n",
      "0.799 (+/-0.026) for {'max_features': 11, 'min_samples_leaf': 40, 'n_estimators': 175}\n",
      "0.801 (+/-0.025) for {'max_features': 11, 'min_samples_leaf': 40, 'n_estimators': 200}\n",
      "0.802 (+/-0.024) for {'max_features': 11, 'min_samples_leaf': 40, 'n_estimators': 225}\n",
      "0.819 (+/-0.020) for {'max_features': 13, 'min_samples_leaf': 20, 'n_estimators': 50}\n",
      "0.818 (+/-0.019) for {'max_features': 13, 'min_samples_leaf': 20, 'n_estimators': 75}\n",
      "0.813 (+/-0.032) for {'max_features': 13, 'min_samples_leaf': 20, 'n_estimators': 100}\n",
      "0.812 (+/-0.022) for {'max_features': 13, 'min_samples_leaf': 20, 'n_estimators': 125}\n",
      "0.819 (+/-0.030) for {'max_features': 13, 'min_samples_leaf': 20, 'n_estimators': 150}\n",
      "0.816 (+/-0.032) for {'max_features': 13, 'min_samples_leaf': 20, 'n_estimators': 175}\n",
      "0.822 (+/-0.027) for {'max_features': 13, 'min_samples_leaf': 20, 'n_estimators': 200}\n",
      "0.823 (+/-0.030) for {'max_features': 13, 'min_samples_leaf': 20, 'n_estimators': 225}\n",
      "0.802 (+/-0.026) for {'max_features': 13, 'min_samples_leaf': 30, 'n_estimators': 50}\n",
      "0.806 (+/-0.031) for {'max_features': 13, 'min_samples_leaf': 30, 'n_estimators': 75}\n",
      "0.813 (+/-0.025) for {'max_features': 13, 'min_samples_leaf': 30, 'n_estimators': 100}\n",
      "0.813 (+/-0.028) for {'max_features': 13, 'min_samples_leaf': 30, 'n_estimators': 125}\n",
      "0.815 (+/-0.022) for {'max_features': 13, 'min_samples_leaf': 30, 'n_estimators': 150}\n",
      "0.807 (+/-0.024) for {'max_features': 13, 'min_samples_leaf': 30, 'n_estimators': 175}\n",
      "0.805 (+/-0.026) for {'max_features': 13, 'min_samples_leaf': 30, 'n_estimators': 200}\n",
      "0.812 (+/-0.019) for {'max_features': 13, 'min_samples_leaf': 30, 'n_estimators': 225}\n",
      "0.794 (+/-0.023) for {'max_features': 13, 'min_samples_leaf': 40, 'n_estimators': 50}\n",
      "0.793 (+/-0.012) for {'max_features': 13, 'min_samples_leaf': 40, 'n_estimators': 75}\n",
      "0.795 (+/-0.014) for {'max_features': 13, 'min_samples_leaf': 40, 'n_estimators': 100}\n",
      "0.797 (+/-0.020) for {'max_features': 13, 'min_samples_leaf': 40, 'n_estimators': 125}\n",
      "0.796 (+/-0.015) for {'max_features': 13, 'min_samples_leaf': 40, 'n_estimators': 150}\n",
      "0.803 (+/-0.027) for {'max_features': 13, 'min_samples_leaf': 40, 'n_estimators': 175}\n",
      "0.797 (+/-0.026) for {'max_features': 13, 'min_samples_leaf': 40, 'n_estimators': 200}\n",
      "0.802 (+/-0.030) for {'max_features': 13, 'min_samples_leaf': 40, 'n_estimators': 225}\n",
      "0.810 (+/-0.028) for {'max_features': 15, 'min_samples_leaf': 20, 'n_estimators': 50}\n",
      "0.820 (+/-0.033) for {'max_features': 15, 'min_samples_leaf': 20, 'n_estimators': 75}\n",
      "0.823 (+/-0.037) for {'max_features': 15, 'min_samples_leaf': 20, 'n_estimators': 100}\n",
      "0.823 (+/-0.030) for {'max_features': 15, 'min_samples_leaf': 20, 'n_estimators': 125}\n",
      "0.826 (+/-0.026) for {'max_features': 15, 'min_samples_leaf': 20, 'n_estimators': 150}\n",
      "0.818 (+/-0.038) for {'max_features': 15, 'min_samples_leaf': 20, 'n_estimators': 175}\n",
      "0.822 (+/-0.028) for {'max_features': 15, 'min_samples_leaf': 20, 'n_estimators': 200}\n",
      "0.818 (+/-0.019) for {'max_features': 15, 'min_samples_leaf': 20, 'n_estimators': 225}\n",
      "0.812 (+/-0.032) for {'max_features': 15, 'min_samples_leaf': 30, 'n_estimators': 50}\n",
      "0.808 (+/-0.033) for {'max_features': 15, 'min_samples_leaf': 30, 'n_estimators': 75}\n",
      "0.807 (+/-0.022) for {'max_features': 15, 'min_samples_leaf': 30, 'n_estimators': 100}\n",
      "0.809 (+/-0.032) for {'max_features': 15, 'min_samples_leaf': 30, 'n_estimators': 125}\n",
      "0.809 (+/-0.023) for {'max_features': 15, 'min_samples_leaf': 30, 'n_estimators': 150}\n",
      "0.808 (+/-0.036) for {'max_features': 15, 'min_samples_leaf': 30, 'n_estimators': 175}\n",
      "0.808 (+/-0.025) for {'max_features': 15, 'min_samples_leaf': 30, 'n_estimators': 200}\n",
      "0.817 (+/-0.024) for {'max_features': 15, 'min_samples_leaf': 30, 'n_estimators': 225}\n",
      "0.804 (+/-0.013) for {'max_features': 15, 'min_samples_leaf': 40, 'n_estimators': 50}\n",
      "0.804 (+/-0.024) for {'max_features': 15, 'min_samples_leaf': 40, 'n_estimators': 75}\n",
      "0.806 (+/-0.029) for {'max_features': 15, 'min_samples_leaf': 40, 'n_estimators': 100}\n",
      "0.793 (+/-0.016) for {'max_features': 15, 'min_samples_leaf': 40, 'n_estimators': 125}\n",
      "0.804 (+/-0.028) for {'max_features': 15, 'min_samples_leaf': 40, 'n_estimators': 150}\n",
      "0.803 (+/-0.026) for {'max_features': 15, 'min_samples_leaf': 40, 'n_estimators': 175}\n",
      "0.809 (+/-0.020) for {'max_features': 15, 'min_samples_leaf': 40, 'n_estimators': 200}\n",
      "0.799 (+/-0.020) for {'max_features': 15, 'min_samples_leaf': 40, 'n_estimators': 225}\n"
     ]
    }
   ],
   "source": [
    "# Best paramete set\n",
    "print('Best parameters found:\\n', clf.best_params_)\n",
    "print()\n",
    "# All results\n",
    "means = clf.cv_results_['mean_test_score']\n",
    "stds = clf.cv_results_['std_test_score']\n",
    "for mean, std, params in zip(means, stds, clf.cv_results_['params']):\n",
    "    print(\"%0.3f (+/-%0.03f) for %r\" % (mean, std * 2, params))"
   ]
  },
  {
   "cell_type": "code",
   "execution_count": null,
   "metadata": {},
   "outputs": [],
   "source": [
    "\n"
   ]
  },
  {
   "cell_type": "code",
   "execution_count": 64,
   "metadata": {},
   "outputs": [],
   "source": [
    "df = pd.read_csv('P2Data2020.csv')\n",
    "idx = [i for i in range(1,17)]\n",
    "X, y = df.iloc[:,idx],df.iloc[:,0]"
   ]
  },
  {
   "cell_type": "code",
   "execution_count": 65,
   "metadata": {},
   "outputs": [],
   "source": [
    "from feature_selector import FeatureSelector\n",
    "# Features are in train and labels are in train_labels\n",
    "fs = FeatureSelector(data = X, labels = y)"
   ]
  },
  {
   "cell_type": "code",
   "execution_count": 68,
   "metadata": {},
   "outputs": [
    {
     "name": "stdout",
     "output_type": "stream",
     "text": [
      "0 features with greater than 0.60 missing values.\n",
      "\n"
     ]
    },
    {
     "data": {
      "text/plain": [
       "[]"
      ]
     },
     "execution_count": 68,
     "metadata": {},
     "output_type": "execute_result"
    }
   ],
   "source": [
    "fs.identify_missing(missing_threshold = 0.6)\n",
    "missing_features = fs.ops['missing']\n",
    "missing_features"
   ]
  },
  {
   "cell_type": "code",
   "execution_count": 80,
   "metadata": {},
   "outputs": [
    {
     "name": "stdout",
     "output_type": "stream",
     "text": [
      "1 features with a correlation magnitude greater than 0.90.\n",
      "\n"
     ]
    }
   ],
   "source": [
    "fs.identify_collinear(correlation_threshold = 0.9)\n"
   ]
  },
  {
   "cell_type": "code",
   "execution_count": 81,
   "metadata": {},
   "outputs": [
    {
     "data": {
      "text/plain": [
       "['X13']"
      ]
     },
     "execution_count": 81,
     "metadata": {},
     "output_type": "execute_result"
    }
   ],
   "source": [
    "collinear_features = fs.ops['collinear']\n",
    "collinear_features"
   ]
  },
  {
   "cell_type": "code",
   "execution_count": 82,
   "metadata": {},
   "outputs": [
    {
     "data": {
      "image/png": "[encoded data removed]",
      "text/plain": [
       "<Figure size 720x576 with 2 Axes>"
      ]
     },
     "metadata": {
      "needs_background": "light"
     },
     "output_type": "display_data"
    }
   ],
   "source": [
    "fs.plot_collinear()\n"
   ]
  },
  {
   "cell_type": "code",
   "execution_count": 83,
   "metadata": {},
   "outputs": [
    {
     "data": {
      "text/html": [
       "<div>\n",
       "<style scoped>\n",
       "    .dataframe tbody tr th:only-of-type {\n",
       "        vertical-align: middle;\n",
       "    }\n",
       "\n",
       "    .dataframe tbody tr th {\n",
       "        vertical-align: top;\n",
       "    }\n",
       "\n",
       "    .dataframe thead th {\n",
       "        text-align: right;\n",
       "    }\n",
       "</style>\n",
       "<table border=\"1\" class=\"dataframe\">\n",
       "  <thead>\n",
       "    <tr style=\"text-align: right;\">\n",
       "      <th></th>\n",
       "      <th>drop_feature</th>\n",
       "      <th>corr_feature</th>\n",
       "      <th>corr_value</th>\n",
       "    </tr>\n",
       "  </thead>\n",
       "  <tbody>\n",
       "    <tr>\n",
       "      <th>0</th>\n",
       "      <td>X13</td>\n",
       "      <td>X2</td>\n",
       "      <td>0.918185</td>\n",
       "    </tr>\n",
       "  </tbody>\n",
       "</table>\n",
       "</div>"
      ],
      "text/plain": [
       "  drop_feature corr_feature  corr_value\n",
       "0          X13           X2    0.918185"
      ]
     },
     "execution_count": 83,
     "metadata": {},
     "output_type": "execute_result"
    }
   ],
   "source": [
    "# list of collinear features to remove\n",
    "collinear_features = fs.ops['collinear']\n",
    "# dataframe of collinear features\n",
    "fs.record_collinear.head()"
   ]
  },
  {
   "cell_type": "code",
   "execution_count": 86,
   "metadata": {},
   "outputs": [
    {
     "name": "stdout",
     "output_type": "stream",
     "text": [
      "Training Gradient Boosting Model\n",
      "\n",
      "Training until validation scores don't improve for 100 rounds\n",
      "Early stopping, best iteration is:\n",
      "[82]\tvalid_0's multi_logloss: 0.51225\n",
      "Training until validation scores don't improve for 100 rounds\n",
      "Early stopping, best iteration is:\n",
      "[91]\tvalid_0's multi_logloss: 0.519465\n",
      "Training until validation scores don't improve for 100 rounds\n",
      "Early stopping, best iteration is:\n",
      "[93]\tvalid_0's multi_logloss: 0.467861\n",
      "Training until validation scores don't improve for 100 rounds\n",
      "Early stopping, best iteration is:\n",
      "[112]\tvalid_0's multi_logloss: 0.461227\n",
      "Training until validation scores don't improve for 100 rounds\n",
      "Early stopping, best iteration is:\n",
      "[115]\tvalid_0's multi_logloss: 0.453102\n",
      "Training until validation scores don't improve for 100 rounds\n",
      "Early stopping, best iteration is:\n",
      "[110]\tvalid_0's multi_logloss: 0.432448\n",
      "Training until validation scores don't improve for 100 rounds\n",
      "Early stopping, best iteration is:\n",
      "[95]\tvalid_0's multi_logloss: 0.644203\n",
      "Training until validation scores don't improve for 100 rounds\n",
      "Early stopping, best iteration is:\n",
      "[124]\tvalid_0's multi_logloss: 0.417473\n",
      "Training until validation scores don't improve for 100 rounds\n",
      "Early stopping, best iteration is:\n",
      "[129]\tvalid_0's multi_logloss: 0.453916\n",
      "Training until validation scores don't improve for 100 rounds\n",
      "Early stopping, best iteration is:\n",
      "[115]\tvalid_0's multi_logloss: 0.420737\n",
      "\n",
      "0 features with zero importance after one-hot encoding.\n",
      "\n"
     ]
    }
   ],
   "source": [
    "# Pass in the appropriate parameters\n",
    "fs.identify_zero_importance(task = 'classification', \n",
    "                            eval_metric = 'multiclass', \n",
    "                            n_iterations = 10, \n",
    "                             early_stopping = True)\n",
    "# list of zero importance features\n",
    "zero_importance_features = fs.ops['zero_importance']"
   ]
  },
  {
   "cell_type": "code",
   "execution_count": 87,
   "metadata": {},
   "outputs": [
    {
     "data": {
      "image/png": "[encoded data removed]",
      "text/plain": [
       "<Figure size 1000x600 with 1 Axes>"
      ]
     },
     "metadata": {},
     "output_type": "display_data"
    },
    {
     "data": {
      "image/png": "[encoded data removed]",
      "text/plain": [
       "<Figure size 600x400 with 1 Axes>"
      ]
     },
     "metadata": {},
     "output_type": "display_data"
    },
    {
     "name": "stdout",
     "output_type": "stream",
     "text": [
      "16 features required for 0.99 of cumulative importance\n"
     ]
    }
   ],
   "source": [
    "# plot the feature importances\n",
    "fs.plot_feature_importances(threshold = 0.99, plot_n = 12)"
   ]
  },
  {
   "cell_type": "code",
   "execution_count": 88,
   "metadata": {},
   "outputs": [
    {
     "name": "stdout",
     "output_type": "stream",
     "text": [
      "15 features required for cumulative importance of 0.99 after one hot encoding.\n",
      "1 features do not contribute to cumulative importance of 0.99.\n",
      "\n"
     ]
    }
   ],
   "source": [
    "fs.identify_low_importance(cumulative_importance = 0.99)"
   ]
  },
  {
   "cell_type": "code",
   "execution_count": 90,
   "metadata": {},
   "outputs": [
    {
     "data": {
      "text/html": [
       "<div>\n",
       "<style scoped>\n",
       "    .dataframe tbody tr th:only-of-type {\n",
       "        vertical-align: middle;\n",
       "    }\n",
       "\n",
       "    .dataframe tbody tr th {\n",
       "        vertical-align: top;\n",
       "    }\n",
       "\n",
       "    .dataframe thead th {\n",
       "        text-align: right;\n",
       "    }\n",
       "</style>\n",
       "<table border=\"1\" class=\"dataframe\">\n",
       "  <thead>\n",
       "    <tr style=\"text-align: right;\">\n",
       "      <th></th>\n",
       "      <th>feature</th>\n",
       "      <th>importance</th>\n",
       "      <th>normalized_importance</th>\n",
       "      <th>cumulative_importance</th>\n",
       "    </tr>\n",
       "  </thead>\n",
       "  <tbody>\n",
       "    <tr>\n",
       "      <th>0</th>\n",
       "      <td>X7</td>\n",
       "      <td>1878.8</td>\n",
       "      <td>0.118022</td>\n",
       "      <td>0.118022</td>\n",
       "    </tr>\n",
       "    <tr>\n",
       "      <th>1</th>\n",
       "      <td>X6</td>\n",
       "      <td>1545.1</td>\n",
       "      <td>0.097060</td>\n",
       "      <td>0.215083</td>\n",
       "    </tr>\n",
       "    <tr>\n",
       "      <th>2</th>\n",
       "      <td>X16</td>\n",
       "      <td>1500.4</td>\n",
       "      <td>0.094252</td>\n",
       "      <td>0.309335</td>\n",
       "    </tr>\n",
       "    <tr>\n",
       "      <th>3</th>\n",
       "      <td>X9</td>\n",
       "      <td>1478.5</td>\n",
       "      <td>0.092876</td>\n",
       "      <td>0.402211</td>\n",
       "    </tr>\n",
       "    <tr>\n",
       "      <th>4</th>\n",
       "      <td>X8</td>\n",
       "      <td>1057.3</td>\n",
       "      <td>0.066417</td>\n",
       "      <td>0.468629</td>\n",
       "    </tr>\n",
       "    <tr>\n",
       "      <th>5</th>\n",
       "      <td>X13</td>\n",
       "      <td>1047.6</td>\n",
       "      <td>0.065808</td>\n",
       "      <td>0.534437</td>\n",
       "    </tr>\n",
       "    <tr>\n",
       "      <th>6</th>\n",
       "      <td>X12</td>\n",
       "      <td>1008.7</td>\n",
       "      <td>0.063365</td>\n",
       "      <td>0.597801</td>\n",
       "    </tr>\n",
       "    <tr>\n",
       "      <th>7</th>\n",
       "      <td>X14</td>\n",
       "      <td>850.5</td>\n",
       "      <td>0.053427</td>\n",
       "      <td>0.651228</td>\n",
       "    </tr>\n",
       "    <tr>\n",
       "      <th>8</th>\n",
       "      <td>X10</td>\n",
       "      <td>824.8</td>\n",
       "      <td>0.051812</td>\n",
       "      <td>0.703040</td>\n",
       "    </tr>\n",
       "    <tr>\n",
       "      <th>9</th>\n",
       "      <td>X1</td>\n",
       "      <td>807.2</td>\n",
       "      <td>0.050707</td>\n",
       "      <td>0.753747</td>\n",
       "    </tr>\n",
       "    <tr>\n",
       "      <th>10</th>\n",
       "      <td>X11</td>\n",
       "      <td>773.4</td>\n",
       "      <td>0.048583</td>\n",
       "      <td>0.802331</td>\n",
       "    </tr>\n",
       "    <tr>\n",
       "      <th>11</th>\n",
       "      <td>X5</td>\n",
       "      <td>714.8</td>\n",
       "      <td>0.044902</td>\n",
       "      <td>0.847233</td>\n",
       "    </tr>\n",
       "    <tr>\n",
       "      <th>12</th>\n",
       "      <td>X2</td>\n",
       "      <td>684.1</td>\n",
       "      <td>0.042974</td>\n",
       "      <td>0.890207</td>\n",
       "    </tr>\n",
       "    <tr>\n",
       "      <th>13</th>\n",
       "      <td>X4</td>\n",
       "      <td>590.7</td>\n",
       "      <td>0.037107</td>\n",
       "      <td>0.927313</td>\n",
       "    </tr>\n",
       "    <tr>\n",
       "      <th>14</th>\n",
       "      <td>X3</td>\n",
       "      <td>581.4</td>\n",
       "      <td>0.036522</td>\n",
       "      <td>0.963836</td>\n",
       "    </tr>\n",
       "    <tr>\n",
       "      <th>15</th>\n",
       "      <td>X15</td>\n",
       "      <td>575.7</td>\n",
       "      <td>0.036164</td>\n",
       "      <td>1.000000</td>\n",
       "    </tr>\n",
       "  </tbody>\n",
       "</table>\n",
       "</div>"
      ],
      "text/plain": [
       "   feature  importance  normalized_importance  cumulative_importance\n",
       "0       X7      1878.8               0.118022               0.118022\n",
       "1       X6      1545.1               0.097060               0.215083\n",
       "2      X16      1500.4               0.094252               0.309335\n",
       "3       X9      1478.5               0.092876               0.402211\n",
       "4       X8      1057.3               0.066417               0.468629\n",
       "5      X13      1047.6               0.065808               0.534437\n",
       "6      X12      1008.7               0.063365               0.597801\n",
       "7      X14       850.5               0.053427               0.651228\n",
       "8      X10       824.8               0.051812               0.703040\n",
       "9       X1       807.2               0.050707               0.753747\n",
       "10     X11       773.4               0.048583               0.802331\n",
       "11      X5       714.8               0.044902               0.847233\n",
       "12      X2       684.1               0.042974               0.890207\n",
       "13      X4       590.7               0.037107               0.927313\n",
       "14      X3       581.4               0.036522               0.963836\n",
       "15     X15       575.7               0.036164               1.000000"
      ]
     },
     "execution_count": 90,
     "metadata": {},
     "output_type": "execute_result"
    }
   ],
   "source": [
    "fs.feature_importances.head(20)\n"
   ]
  },
  {
   "cell_type": "code",
   "execution_count": 91,
   "metadata": {},
   "outputs": [
    {
     "name": "stdout",
     "output_type": "stream",
     "text": [
      "0 features with a single unique value.\n",
      "\n"
     ]
    }
   ],
   "source": [
    "fs.identify_single_unique()\n"
   ]
  },
  {
   "cell_type": "code",
   "execution_count": 92,
   "metadata": {},
   "outputs": [
    {
     "name": "stdout",
     "output_type": "stream",
     "text": [
      "['missing', 'collinear', 'zero_importance', 'low_importance', 'single_unique'] methods have been run\n",
      "\n",
      "Removed 2 features.\n"
     ]
    }
   ],
   "source": [
    "# Remove the features from all methods (returns a df)\n",
    "train_removed = fs.remove(methods = 'all')"
   ]
  },
  {
   "cell_type": "code",
   "execution_count": 95,
   "metadata": {},
   "outputs": [
    {
     "name": "stdout",
     "output_type": "stream",
     "text": [
      "['missing', 'collinear', 'zero_importance', 'low_importance', 'single_unique'] methods have been run\n",
      "\n",
      "Removed 2 features including one-hot features.\n"
     ]
    },
    {
     "data": {
      "text/html": [
       "<div>\n",
       "<style scoped>\n",
       "    .dataframe tbody tr th:only-of-type {\n",
       "        vertical-align: middle;\n",
       "    }\n",
       "\n",
       "    .dataframe tbody tr th {\n",
       "        vertical-align: top;\n",
       "    }\n",
       "\n",
       "    .dataframe thead th {\n",
       "        text-align: right;\n",
       "    }\n",
       "</style>\n",
       "<table border=\"1\" class=\"dataframe\">\n",
       "  <thead>\n",
       "    <tr style=\"text-align: right;\">\n",
       "      <th></th>\n",
       "      <th>X1</th>\n",
       "      <th>X2</th>\n",
       "      <th>X3</th>\n",
       "      <th>X4</th>\n",
       "      <th>X5</th>\n",
       "      <th>X6</th>\n",
       "      <th>X7</th>\n",
       "      <th>X8</th>\n",
       "      <th>X9</th>\n",
       "      <th>X10</th>\n",
       "      <th>X11</th>\n",
       "      <th>X12</th>\n",
       "      <th>X14</th>\n",
       "      <th>X16</th>\n",
       "    </tr>\n",
       "  </thead>\n",
       "  <tbody>\n",
       "    <tr>\n",
       "      <th>0</th>\n",
       "      <td>0.463483</td>\n",
       "      <td>0.197339</td>\n",
       "      <td>-0.004313</td>\n",
       "      <td>0.522889</td>\n",
       "      <td>-0.207978</td>\n",
       "      <td>0.373110</td>\n",
       "      <td>0.808613</td>\n",
       "      <td>0.714983</td>\n",
       "      <td>0.243792</td>\n",
       "      <td>0.455603</td>\n",
       "      <td>-0.260724</td>\n",
       "      <td>-0.505411</td>\n",
       "      <td>0.308001</td>\n",
       "      <td>0.074473</td>\n",
       "    </tr>\n",
       "    <tr>\n",
       "      <th>1</th>\n",
       "      <td>-0.021751</td>\n",
       "      <td>-0.317193</td>\n",
       "      <td>-0.592582</td>\n",
       "      <td>-0.453937</td>\n",
       "      <td>-2.424218</td>\n",
       "      <td>-1.181111</td>\n",
       "      <td>-0.094359</td>\n",
       "      <td>0.456717</td>\n",
       "      <td>-0.553349</td>\n",
       "      <td>-1.537843</td>\n",
       "      <td>-0.822716</td>\n",
       "      <td>-1.168343</td>\n",
       "      <td>-0.445774</td>\n",
       "      <td>-2.204006</td>\n",
       "    </tr>\n",
       "    <tr>\n",
       "      <th>2</th>\n",
       "      <td>0.094291</td>\n",
       "      <td>0.196072</td>\n",
       "      <td>-0.508481</td>\n",
       "      <td>-0.988275</td>\n",
       "      <td>-0.580576</td>\n",
       "      <td>0.441788</td>\n",
       "      <td>0.280879</td>\n",
       "      <td>-0.754575</td>\n",
       "      <td>-0.317789</td>\n",
       "      <td>0.465753</td>\n",
       "      <td>-0.507881</td>\n",
       "      <td>-0.662859</td>\n",
       "      <td>-1.196857</td>\n",
       "      <td>0.269581</td>\n",
       "    </tr>\n",
       "    <tr>\n",
       "      <th>3</th>\n",
       "      <td>-0.262279</td>\n",
       "      <td>0.161193</td>\n",
       "      <td>0.261580</td>\n",
       "      <td>-0.210060</td>\n",
       "      <td>1.078715</td>\n",
       "      <td>-0.952849</td>\n",
       "      <td>0.785183</td>\n",
       "      <td>-0.529049</td>\n",
       "      <td>0.729604</td>\n",
       "      <td>0.184921</td>\n",
       "      <td>0.631328</td>\n",
       "      <td>0.611052</td>\n",
       "      <td>-0.425220</td>\n",
       "      <td>0.839113</td>\n",
       "    </tr>\n",
       "    <tr>\n",
       "      <th>4</th>\n",
       "      <td>0.006534</td>\n",
       "      <td>-0.314165</td>\n",
       "      <td>0.075156</td>\n",
       "      <td>-0.531028</td>\n",
       "      <td>-0.473270</td>\n",
       "      <td>-1.393569</td>\n",
       "      <td>-0.536339</td>\n",
       "      <td>-0.011507</td>\n",
       "      <td>-1.780546</td>\n",
       "      <td>-0.136961</td>\n",
       "      <td>-0.766927</td>\n",
       "      <td>-1.800323</td>\n",
       "      <td>-0.584476</td>\n",
       "      <td>-1.107669</td>\n",
       "    </tr>\n",
       "    <tr>\n",
       "      <th>...</th>\n",
       "      <td>...</td>\n",
       "      <td>...</td>\n",
       "      <td>...</td>\n",
       "      <td>...</td>\n",
       "      <td>...</td>\n",
       "      <td>...</td>\n",
       "      <td>...</td>\n",
       "      <td>...</td>\n",
       "      <td>...</td>\n",
       "      <td>...</td>\n",
       "      <td>...</td>\n",
       "      <td>...</td>\n",
       "      <td>...</td>\n",
       "      <td>...</td>\n",
       "    </tr>\n",
       "    <tr>\n",
       "      <th>995</th>\n",
       "      <td>-1.360755</td>\n",
       "      <td>-0.739297</td>\n",
       "      <td>-0.750135</td>\n",
       "      <td>-1.557132</td>\n",
       "      <td>-1.753515</td>\n",
       "      <td>-1.276854</td>\n",
       "      <td>-1.076608</td>\n",
       "      <td>-1.412753</td>\n",
       "      <td>-1.708891</td>\n",
       "      <td>-0.868064</td>\n",
       "      <td>-1.523512</td>\n",
       "      <td>-1.649372</td>\n",
       "      <td>-1.713418</td>\n",
       "      <td>-1.356484</td>\n",
       "    </tr>\n",
       "    <tr>\n",
       "      <th>996</th>\n",
       "      <td>-0.646243</td>\n",
       "      <td>0.008605</td>\n",
       "      <td>-0.174273</td>\n",
       "      <td>0.633853</td>\n",
       "      <td>-1.186326</td>\n",
       "      <td>-1.138474</td>\n",
       "      <td>0.308548</td>\n",
       "      <td>0.324901</td>\n",
       "      <td>-0.560169</td>\n",
       "      <td>-1.062846</td>\n",
       "      <td>-0.652129</td>\n",
       "      <td>-0.815843</td>\n",
       "      <td>0.183280</td>\n",
       "      <td>-1.416825</td>\n",
       "    </tr>\n",
       "    <tr>\n",
       "      <th>997</th>\n",
       "      <td>0.059970</td>\n",
       "      <td>-0.488109</td>\n",
       "      <td>-0.038864</td>\n",
       "      <td>0.148438</td>\n",
       "      <td>-0.069745</td>\n",
       "      <td>0.811329</td>\n",
       "      <td>-0.114822</td>\n",
       "      <td>0.560987</td>\n",
       "      <td>1.037622</td>\n",
       "      <td>1.235145</td>\n",
       "      <td>0.619609</td>\n",
       "      <td>-0.274501</td>\n",
       "      <td>0.659251</td>\n",
       "      <td>0.550468</td>\n",
       "    </tr>\n",
       "    <tr>\n",
       "      <th>998</th>\n",
       "      <td>-0.683347</td>\n",
       "      <td>-0.652019</td>\n",
       "      <td>1.431031</td>\n",
       "      <td>0.086752</td>\n",
       "      <td>0.460104</td>\n",
       "      <td>0.599775</td>\n",
       "      <td>-1.318404</td>\n",
       "      <td>-0.056241</td>\n",
       "      <td>0.433341</td>\n",
       "      <td>0.938289</td>\n",
       "      <td>1.286949</td>\n",
       "      <td>1.050925</td>\n",
       "      <td>0.114481</td>\n",
       "      <td>0.921660</td>\n",
       "    </tr>\n",
       "    <tr>\n",
       "      <th>999</th>\n",
       "      <td>-1.961656</td>\n",
       "      <td>-2.590468</td>\n",
       "      <td>-1.980116</td>\n",
       "      <td>-2.936340</td>\n",
       "      <td>-1.210653</td>\n",
       "      <td>-1.089046</td>\n",
       "      <td>-1.548440</td>\n",
       "      <td>-2.476411</td>\n",
       "      <td>-2.465860</td>\n",
       "      <td>-0.980689</td>\n",
       "      <td>-0.968376</td>\n",
       "      <td>-1.727158</td>\n",
       "      <td>-2.091946</td>\n",
       "      <td>-1.046278</td>\n",
       "    </tr>\n",
       "  </tbody>\n",
       "</table>\n",
       "<p>1000 rows × 14 columns</p>\n",
       "</div>"
      ],
      "text/plain": [
       "           X1        X2        X3        X4        X5        X6        X7  \\\n",
       "0    0.463483  0.197339 -0.004313  0.522889 -0.207978  0.373110  0.808613   \n",
       "1   -0.021751 -0.317193 -0.592582 -0.453937 -2.424218 -1.181111 -0.094359   \n",
       "2    0.094291  0.196072 -0.508481 -0.988275 -0.580576  0.441788  0.280879   \n",
       "3   -0.262279  0.161193  0.261580 -0.210060  1.078715 -0.952849  0.785183   \n",
       "4    0.006534 -0.314165  0.075156 -0.531028 -0.473270 -1.393569 -0.536339   \n",
       "..        ...       ...       ...       ...       ...       ...       ...   \n",
       "995 -1.360755 -0.739297 -0.750135 -1.557132 -1.753515 -1.276854 -1.076608   \n",
       "996 -0.646243  0.008605 -0.174273  0.633853 -1.186326 -1.138474  0.308548   \n",
       "997  0.059970 -0.488109 -0.038864  0.148438 -0.069745  0.811329 -0.114822   \n",
       "998 -0.683347 -0.652019  1.431031  0.086752  0.460104  0.599775 -1.318404   \n",
       "999 -1.961656 -2.590468 -1.980116 -2.936340 -1.210653 -1.089046 -1.548440   \n",
       "\n",
       "           X8        X9       X10       X11       X12       X14       X16  \n",
       "0    0.714983  0.243792  0.455603 -0.260724 -0.505411  0.308001  0.074473  \n",
       "1    0.456717 -0.553349 -1.537843 -0.822716 -1.168343 -0.445774 -2.204006  \n",
       "2   -0.754575 -0.317789  0.465753 -0.507881 -0.662859 -1.196857  0.269581  \n",
       "3   -0.529049  0.729604  0.184921  0.631328  0.611052 -0.425220  0.839113  \n",
       "4   -0.011507 -1.780546 -0.136961 -0.766927 -1.800323 -0.584476 -1.107669  \n",
       "..        ...       ...       ...       ...       ...       ...       ...  \n",
       "995 -1.412753 -1.708891 -0.868064 -1.523512 -1.649372 -1.713418 -1.356484  \n",
       "996  0.324901 -0.560169 -1.062846 -0.652129 -0.815843  0.183280 -1.416825  \n",
       "997  0.560987  1.037622  1.235145  0.619609 -0.274501  0.659251  0.550468  \n",
       "998 -0.056241  0.433341  0.938289  1.286949  1.050925  0.114481  0.921660  \n",
       "999 -2.476411 -2.465860 -0.980689 -0.968376 -1.727158 -2.091946 -1.046278  \n",
       "\n",
       "[1000 rows x 14 columns]"
      ]
     },
     "execution_count": 95,
     "metadata": {},
     "output_type": "execute_result"
    }
   ],
   "source": [
    "\n",
    "train_removed_all = fs.remove(methods = 'all', keep_one_hot=False)\n",
    "train_removed_all"
   ]
  },
  {
   "cell_type": "code",
   "execution_count": 96,
   "metadata": {},
   "outputs": [
    {
     "name": "stdout",
     "output_type": "stream",
     "text": [
      "0 features with greater than 0.60 missing values.\n",
      "\n",
      "0 features with a single unique value.\n",
      "\n",
      "1 features with a correlation magnitude greater than 0.90.\n",
      "\n",
      "Training Gradient Boosting Model\n",
      "\n",
      "Training until validation scores don't improve for 100 rounds\n",
      "Early stopping, best iteration is:\n",
      "[90]\tvalid_0's multi_logloss: 0.473814\n",
      "Training until validation scores don't improve for 100 rounds\n",
      "Early stopping, best iteration is:\n",
      "[86]\tvalid_0's multi_logloss: 0.468693\n",
      "Training until validation scores don't improve for 100 rounds\n",
      "Early stopping, best iteration is:\n",
      "[102]\tvalid_0's multi_logloss: 0.492064\n",
      "Training until validation scores don't improve for 100 rounds\n",
      "Early stopping, best iteration is:\n",
      "[107]\tvalid_0's multi_logloss: 0.506338\n",
      "Training until validation scores don't improve for 100 rounds\n",
      "Early stopping, best iteration is:\n",
      "[99]\tvalid_0's multi_logloss: 0.470636\n",
      "Training until validation scores don't improve for 100 rounds\n",
      "Early stopping, best iteration is:\n",
      "[88]\tvalid_0's multi_logloss: 0.613649\n",
      "Training until validation scores don't improve for 100 rounds\n",
      "Early stopping, best iteration is:\n",
      "[102]\tvalid_0's multi_logloss: 0.457688\n",
      "Training until validation scores don't improve for 100 rounds\n",
      "Early stopping, best iteration is:\n",
      "[93]\tvalid_0's multi_logloss: 0.534033\n",
      "Training until validation scores don't improve for 100 rounds\n",
      "Early stopping, best iteration is:\n",
      "[103]\tvalid_0's multi_logloss: 0.559843\n",
      "Training until validation scores don't improve for 100 rounds\n",
      "Early stopping, best iteration is:\n",
      "[118]\tvalid_0's multi_logloss: 0.520176\n",
      "\n",
      "0 features with zero importance after one-hot encoding.\n",
      "\n",
      "15 features required for cumulative importance of 0.99 after one hot encoding.\n",
      "1 features do not contribute to cumulative importance of 0.99.\n",
      "\n",
      "2 total features out of 16 identified for removal after one-hot encoding.\n",
      "\n"
     ]
    }
   ],
   "source": [
    "fs.identify_all(selection_params = {'missing_threshold': 0.6,    \n",
    "                                    'correlation_threshold': 0.9, \n",
    "                                    'task': 'classification',    \n",
    "                                    'eval_metric': 'multiclass', \n",
    "                                    'cumulative_importance': 0.99})"
   ]
  },
  {
   "cell_type": "code",
   "execution_count": null,
   "metadata": {},
   "outputs": [],
   "source": []
  }
 ],
 "metadata": {
  "kernelspec": {
   "display_name": "Environment (conda_tf_gpu15)",
   "language": "python",
   "name": "conda_tf_gpu15"
  },
  "language_info": {
   "codemirror_mode": {
    "name": "ipython",
    "version": 3
   },
   "file_extension": ".py",
   "mimetype": "text/x-python",
   "name": "python",
   "nbconvert_exporter": "python",
   "pygments_lexer": "ipython3",
   "version": "3.7.9"
  },
  "varInspector": {
   "cols": {
    "lenName": 16,
    "lenType": 16,
    "lenVar": 40
   },
   "kernels_config": {
    "python": {
     "delete_cmd_postfix": "",
     "delete_cmd_prefix": "del ",
     "library": "var_list.py",
     "varRefreshCmd": "print(var_dic_list())"
    },
    "r": {
     "delete_cmd_postfix": ") ",
     "delete_cmd_prefix": "rm(",
     "library": "var_list.r",
     "varRefreshCmd": "cat(var_dic_list()) "
    }
   },
   "types_to_exclude": [
    "module",
    "function",
    "builtin_function_or_method",
    "instance",
    "_Feature"
   ],
   "window_display": false
  }
 },
 "nbformat": 4,
 "nbformat_minor": 4
}
